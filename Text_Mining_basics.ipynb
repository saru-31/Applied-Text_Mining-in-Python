{
 "cells": [
  {
   "cell_type": "markdown",
   "metadata": {},
   "source": [
    "### Text MIning and NLP\n",
    "\n",
    "Natural Language Processing is a study of linguistics, computer science and statistics.\n",
    "*Terminology:*<br>\n",
    "**Corpus**= A collection of all documents.<br>\n",
    "**Document**= A collection of sentences.<br>\n",
    "**Sentence**= A collection of words in a meaning full arrangement.<br>\n",
    "**Word Token** = number of words in a given sentence.<br>\n",
    "**Word Type**= Number of distinct words in a given sentence.<br>\n",
    "\n",
    "*TEXT Preprocessing:*\n",
    "1) Sentence Segmentation: Breaking down of a paragraph or a document into multiple sentences.<br>\n",
    "2) Word Tokenization: Breaking dowm of sentences into words.<br>\n",
    "3) Word Normalization: Stemming and Lemmetization<br>\n",
    "4) Stop Word Removal : Certain type of words that are present frequently adding possible noise in data, hence need to be seperated out.\n",
    "<br>\n",
    "**Stemmming** : Strips the words off all its suffixes.Eg: Automation-> automat.\n",
    "Stemming is done to reduces words to its root as the meaning remains the same. Hence it doesnt have to remember the different root-suffix combinations' meanings.<br>\n",
    "The disadvantage is that it doesnt consider the meaning of the word before cutting off its suffix.\n",
    " *This is fixed in LEMMETIZATION*<br>\n",
    "**Lemmetization** : Doesnt simply chop off the suffixes but it focuses on the knowledge/dictionary like 'WordNet' to obtain a a correct form of the words.\n",
    "It finds the meaning of the word on WordNet before chopping its suffix.\n",
    "<br>\n",
    "N-grams"
   ]
  },
  {
   "cell_type": "code",
   "execution_count": 1,
   "metadata": {},
   "outputs": [
    {
     "name": "stdout",
     "output_type": "stream",
     "text": [
      "['We', 'have', 'received', 'a', 'number', 'of', 'reports', 'relating', 'to', 'alleged', 'antisemitic', 'tweets', 'posted', 'on', 'social', 'media.', 'The', 'Met', 'takes', 'all', 'reports', 'of', 'antisemitism', 'extremely', 'seriously.', 'The', 'relevant', 'material', 'is', 'being', 'assessed.'] 31\n"
     ]
    }
   ],
   "source": [
    "text1=\"We have received a number of reports relating to alleged antisemitic tweets posted on social media. The Met takes all reports of antisemitism extremely seriously. The relevant material is being assessed.\"\n",
    "tokens=text1.split(' ')  #split(reference character for placing the splits )\n",
    "len(tokens)\n",
    "print(tokens,len(tokens))"
   ]
  },
  {
   "cell_type": "code",
   "execution_count": 2,
   "metadata": {},
   "outputs": [
    {
     "name": "stdout",
     "output_type": "stream",
     "text": [
      "['have', 'received', 'number', 'reports', 'relating', 'alleged', 'antisemitic', 'tweets', 'posted', 'social', 'media.', 'takes', 'reports', 'antisemitism', 'extremely', 'seriously.', 'relevant', 'material', 'being', 'assessed.']\n",
      "['We', 'The', 'Met', 'The']\n",
      "[]\n",
      "['have', 'received', 'a', 'number', 'of', 'reports', 'relating', 'to', 'alleged', 'antisemitic', 'tweets', 'posted', 'on', 'social', 'media.', 'takes', 'all', 'reports', 'of', 'antisemitism', 'extremely', 'seriously.', 'relevant', 'material', 'is', 'being', 'assessed.']\n",
      "['reports', 'tweets', 'takes', 'reports', 'is']\n",
      "{'b', 'd', 'n', 'l', 'h', 's', 't', 'W', 'm', 'i', 'w', 'v', 'c', 'e', 'T', 'g', 'u', 'k', ' ', 'r', 'p', 'f', 'y', '.', 'x', 'a', 'o', 'M'} 28\n",
      "['a', 'alleged', 'antisemitic', 'all', 'antisemitism', 'assessed.']\n"
     ]
    }
   ],
   "source": [
    "print([i for i in tokens if len(i)>3])#to get words with more than 3 alphabets\n",
    "print([i for i in tokens if i.istitle()==True]) #words that start with capital letters\n",
    "print([i for i in tokens if i.isupper()==True]) #words that are all capital letters\n",
    "print([i for i in tokens if i.islower()==True]) #words that are all small letters\n",
    "print([i for i in tokens if i.endswith('s')])# get words that ends with ...\n",
    "print(set(text1),len(set(text1)))# set fn gives out unique words in the sentence\n",
    "print([i for i in tokens if i.startswith('a')])# get words that strats with ..."
   ]
  },
  {
   "cell_type": "code",
   "execution_count": 3,
   "metadata": {},
   "outputs": [
    {
     "name": "stdout",
     "output_type": "stream",
     "text": [
      "['We', 'have', 'received', 'a', 'number', 'of', 'reports', 'relating', 'to', 'alleged', 'antisemitic', 'tweets', 'posted', 'on', 'social', 'The', 'Met', 'takes', 'all', 'reports', 'of', 'antisemitism', 'extremely', 'The', 'relevant', 'material', 'is', 'being']\n",
      "[]\n",
      "['We', 'have', 'received', 'a', 'number', 'of', 'reports', 'relating', 'to', 'alleged', 'antisemitic', 'tweets', 'posted', 'on', 'social', 'The', 'Met', 'takes', 'all', 'reports', 'of', 'antisemitism', 'extremely', 'The', 'relevant', 'material', 'is', 'being']\n"
     ]
    }
   ],
   "source": [
    "print([i for i in tokens if i.isalpha()])#word that are alphabetical format\n",
    "print([i for i in tokens if i.isdigit()])#words that are numeric format\n",
    "print([i for i in tokens if i.isalnum()])#words that are alphanumeric format"
   ]
  },
  {
   "cell_type": "code",
   "execution_count": 4,
   "metadata": {},
   "outputs": [
    {
     "data": {
      "text/plain": [
       "\" n this video we're going to talk about handling text in Python. Let's first start looking at primitive constructs in text.\""
      ]
     },
     "execution_count": 4,
     "metadata": {},
     "output_type": "execute_result"
    }
   ],
   "source": [
    "text1.splitlines()\n",
    "tokens[2].join('new-word')\n",
    "text2=\" n this video we're going to talk about handling text in Python. Let's first start looking at primitive constructs in text.  \"\n",
    "text2.strip()#removes whitespace chars like space,tabs,etc present before the first word\n",
    "text2.rstrip()#removes whitesppacee characters like space,tabs,etc present after the last word"
   ]
  },
  {
   "cell_type": "code",
   "execution_count": 5,
   "metadata": {},
   "outputs": [
    {
     "data": {
      "text/plain": [
       "\"In this video we're going to talk about handling text in Python. Let's first start looking at primitive constructs in text.  \""
      ]
     },
     "execution_count": 5,
     "metadata": {},
     "output_type": "execute_result"
    }
   ],
   "source": [
    "text2.rfind('text')\n",
    "text2.find('talk')\n",
    "text2.replace(' n','In')    #replace(initial,final)"
   ]
  },
  {
   "cell_type": "code",
   "execution_count": 6,
   "metadata": {},
   "outputs": [
    {
     "name": "stdout",
     "output_type": "stream",
     "text": [
      "['', 'fbu', 'hthjvuygtfyb', 'bbvydhbhbgfth', 'kjhyu', '']\n"
     ]
    },
    {
     "data": {
      "text/plain": [
       "'pinefbupinehthjvuygtfybpinebbvydhbhbgfthpinekjhyupine'"
      ]
     },
     "execution_count": 6,
     "metadata": {},
     "output_type": "execute_result"
    }
   ],
   "source": [
    "###Split and Joining\n",
    "\n",
    "text3='btfbubththjvuygtfybbtbbvydhbhbgfthbtkjhyubt'\n",
    "text4=text3.split('bt')\n",
    "print(text4)\n",
    "word='pine'\n",
    "word.join(text4)"
   ]
  },
  {
   "cell_type": "code",
   "execution_count": 7,
   "metadata": {},
   "outputs": [
    {
     "data": {
      "text/plain": [
       "['W',\n",
       " 'e',\n",
       " ' ',\n",
       " 'h',\n",
       " 'a',\n",
       " 'v',\n",
       " 'e',\n",
       " ' ',\n",
       " 'r',\n",
       " 'e',\n",
       " 'c',\n",
       " 'e',\n",
       " 'i',\n",
       " 'v',\n",
       " 'e',\n",
       " 'd',\n",
       " ' ',\n",
       " 'a',\n",
       " ' ',\n",
       " 'n',\n",
       " 'u',\n",
       " 'm',\n",
       " 'b',\n",
       " 'e',\n",
       " 'r',\n",
       " ' ',\n",
       " 'o',\n",
       " 'f',\n",
       " ' ',\n",
       " 'r',\n",
       " 'e',\n",
       " 'p',\n",
       " 'o',\n",
       " 'r',\n",
       " 't',\n",
       " 's',\n",
       " ' ',\n",
       " 'r',\n",
       " 'e',\n",
       " 'l',\n",
       " 'a',\n",
       " 't',\n",
       " 'i',\n",
       " 'n',\n",
       " 'g',\n",
       " ' ',\n",
       " 't',\n",
       " 'o',\n",
       " ' ',\n",
       " 'a',\n",
       " 'l',\n",
       " 'l',\n",
       " 'e',\n",
       " 'g',\n",
       " 'e',\n",
       " 'd',\n",
       " ' ',\n",
       " 'a',\n",
       " 'n',\n",
       " 't',\n",
       " 'i',\n",
       " 's',\n",
       " 'e',\n",
       " 'm',\n",
       " 'i',\n",
       " 't',\n",
       " 'i',\n",
       " 'c',\n",
       " ' ',\n",
       " 't',\n",
       " 'w',\n",
       " 'e',\n",
       " 'e',\n",
       " 't',\n",
       " 's',\n",
       " ' ',\n",
       " 'p',\n",
       " 'o',\n",
       " 's',\n",
       " 't',\n",
       " 'e',\n",
       " 'd',\n",
       " ' ',\n",
       " 'o',\n",
       " 'n',\n",
       " ' ',\n",
       " 's',\n",
       " 'o',\n",
       " 'c',\n",
       " 'i',\n",
       " 'a',\n",
       " 'l',\n",
       " ' ',\n",
       " 'm',\n",
       " 'e',\n",
       " 'd',\n",
       " 'i',\n",
       " 'a',\n",
       " '.',\n",
       " ' ',\n",
       " 'T',\n",
       " 'h',\n",
       " 'e',\n",
       " ' ',\n",
       " 'M',\n",
       " 'e',\n",
       " 't',\n",
       " ' ',\n",
       " 't',\n",
       " 'a',\n",
       " 'k',\n",
       " 'e',\n",
       " 's',\n",
       " ' ',\n",
       " 'a',\n",
       " 'l',\n",
       " 'l',\n",
       " ' ',\n",
       " 'r',\n",
       " 'e',\n",
       " 'p',\n",
       " 'o',\n",
       " 'r',\n",
       " 't',\n",
       " 's',\n",
       " ' ',\n",
       " 'o',\n",
       " 'f',\n",
       " ' ',\n",
       " 'a',\n",
       " 'n',\n",
       " 't',\n",
       " 'i',\n",
       " 's',\n",
       " 'e',\n",
       " 'm',\n",
       " 'i',\n",
       " 't',\n",
       " 'i',\n",
       " 's',\n",
       " 'm',\n",
       " ' ',\n",
       " 'e',\n",
       " 'x',\n",
       " 't',\n",
       " 'r',\n",
       " 'e',\n",
       " 'm',\n",
       " 'e',\n",
       " 'l',\n",
       " 'y',\n",
       " ' ',\n",
       " 's',\n",
       " 'e',\n",
       " 'r',\n",
       " 'i',\n",
       " 'o',\n",
       " 'u',\n",
       " 's',\n",
       " 'l',\n",
       " 'y',\n",
       " '.',\n",
       " ' ',\n",
       " 'T',\n",
       " 'h',\n",
       " 'e',\n",
       " ' ',\n",
       " 'r',\n",
       " 'e',\n",
       " 'l',\n",
       " 'e',\n",
       " 'v',\n",
       " 'a',\n",
       " 'n',\n",
       " 't',\n",
       " ' ',\n",
       " 'm',\n",
       " 'a',\n",
       " 't',\n",
       " 'e',\n",
       " 'r',\n",
       " 'i',\n",
       " 'a',\n",
       " 'l',\n",
       " ' ',\n",
       " 'i',\n",
       " 's',\n",
       " ' ',\n",
       " 'b',\n",
       " 'e',\n",
       " 'i',\n",
       " 'n',\n",
       " 'g',\n",
       " ' ',\n",
       " 'a',\n",
       " 's',\n",
       " 's',\n",
       " 'e',\n",
       " 's',\n",
       " 's',\n",
       " 'e',\n",
       " 'd',\n",
       " '.']"
      ]
     },
     "execution_count": 7,
     "metadata": {},
     "output_type": "execute_result"
    }
   ],
   "source": [
    "list(text1)"
   ]
  },
  {
   "cell_type": "markdown",
   "metadata": {},
   "source": [
    "### File Handling"
   ]
  },
  {
   "cell_type": "code",
   "execution_count": 8,
   "metadata": {},
   "outputs": [
    {
     "data": {
      "text/plain": [
       "'txt2html/HTML::TextToHTML Sample Conversion\\n'"
      ]
     },
     "execution_count": 8,
     "metadata": {},
     "output_type": "execute_result"
    }
   ],
   "source": [
    "f=open('example.txt','r')\n",
    "f.readline()\n",
    "#f.readline().rstrip()\n"
   ]
  },
  {
   "cell_type": "code",
   "execution_count": 9,
   "metadata": {},
   "outputs": [
    {
     "data": {
      "text/plain": [
       "9339"
      ]
     },
     "execution_count": 9,
     "metadata": {},
     "output_type": "execute_result"
    }
   ],
   "source": [
    "len(f.read())"
   ]
  },
  {
   "cell_type": "code",
   "execution_count": 10,
   "metadata": {},
   "outputs": [
    {
     "ename": "UnsupportedOperation",
     "evalue": "not writable",
     "output_type": "error",
     "traceback": [
      "\u001b[1;31m---------------------------------------------------------------------------\u001b[0m",
      "\u001b[1;31mUnsupportedOperation\u001b[0m                      Traceback (most recent call last)",
      "\u001b[1;32m<ipython-input-10-16e30ec84b74>\u001b[0m in \u001b[0;36m<module>\u001b[1;34m\u001b[0m\n\u001b[1;32m----> 1\u001b[1;33m \u001b[0mf\u001b[0m\u001b[1;33m.\u001b[0m\u001b[0mwrite\u001b[0m\u001b[1;33m(\u001b[0m\u001b[1;34m'latest commit'\u001b[0m\u001b[1;33m)\u001b[0m\u001b[1;33m\u001b[0m\u001b[1;33m\u001b[0m\u001b[0m\n\u001b[0m",
      "\u001b[1;31mUnsupportedOperation\u001b[0m: not writable"
     ]
    }
   ],
   "source": [
    "f.write('latest commit')\n"
   ]
  },
  {
   "cell_type": "code",
   "execution_count": 11,
   "metadata": {},
   "outputs": [],
   "source": [
    "f.close()"
   ]
  },
  {
   "cell_type": "markdown",
   "metadata": {},
   "source": [
    "### Regular Expressions"
   ]
  },
  {
   "cell_type": "markdown",
   "metadata": {},
   "source": [
    "### Character(s)\tWhat it does<br>\n",
    ".\tA period. Matches any single character except the newline character.<br>\n",
    "^\tA caret. Matches a pattern at the start of the string.<br>\n",
    "\\A\tUppercase A. Matches only at the start of the string.<br>\n",
    "_$$$$\tDollar sign. Matches the end of the string. <br>\n",
    "(\\+z)\tUppercase Z. Matches only at the end of the string.<br>\n",
    "[ ]\tMatches the set of characters you specify within it.<br>\n",
    "\\\t∙ If the character following the backslash is a recognized escape character, then the special meaning of the term is taken.<br>\n",
    "∙ Else the backslash () is treated like any other character and passed through.\n",
    "∙ It can be used in front of all the metacharacters to remove their special meaning.<br>\n",
    "\\w\tLowercase w. Matches any single letter, digit, or underscore.<br>\n",
    "\\W\tUppercase W. Matches any character not part of \\w (lowercase w).<br>\n",
    "\\s\tLowercase s. Matches a single whitespace character like: space, newline, tab, return.<br>\n",
    "\\S\tUppercase S. Matches any character not part of \\s (lowercase s).<br>\n",
    "\\d\tLowercase d. Matches decimal digit 0-9.<br>\n",
    "\\D\tUppercase D. Matches any character that is not a decimal digit.<br>\n",
    "\\t\tLowercase t. Matches tab.<br>\n",
    "\\n\tLowercase n. Matches newline.<br>\n",
    "\\r\tLowercase r. Matches return.<br>\n",
    "\\b\tLowercase b. Matches only the beginning or end of the word.<br>\n",
    "+\tChecks if the preceding character appears one or more times.<br>\n",
    "*\tChecks if the preceding character appears zero or more times.<br>\n",
    "?\t∙ Checks if the preceding character appears exactly zero or one time.<br>\n",
    "∙ Specifies a non-greedy version of +, *<br>\n",
    "{ }\tChecks for an explicit number of times.<br>\n",
    "( )\tCreates a group when performing matches.<br>\n",
    "< >\tCreates a named group when performing matches.<br>"
   ]
  },
  {
   "cell_type": "code",
   "execution_count": 12,
   "metadata": {},
   "outputs": [],
   "source": [
    "text5='The climate crisis impacts everyone, but young people will face the biggest consequences over their lifetime.@UN SG @antonioguterres has launched a new Youth Advisory Group on Climate Change for bold #ClimateAction. We warmly welcome these amazing climate leaders!'"
   ]
  },
  {
   "cell_type": "code",
   "execution_count": 13,
   "metadata": {},
   "outputs": [
    {
     "name": "stdout",
     "output_type": "stream",
     "text": [
      "['@antonioguterres']\n",
      "['#ClimateAction.']\n"
     ]
    }
   ],
   "source": [
    "text6=text5.split(' ')\n",
    "text6\n",
    "print([txt for txt in text6 if txt.startswith('@')])\n",
    "print([txt for txt in text6 if txt.startswith('#')])"
   ]
  },
  {
   "cell_type": "code",
   "execution_count": 14,
   "metadata": {},
   "outputs": [],
   "source": [
    "###Using RegEx"
   ]
  },
  {
   "cell_type": "code",
   "execution_count": 15,
   "metadata": {},
   "outputs": [
    {
     "name": "stdout",
     "output_type": "stream",
     "text": [
      "['lifetime.@UN', '@antonioguterres']\n",
      "['#ClimateAction.']\n"
     ]
    }
   ],
   "source": [
    "import re\n",
    "print([txt for txt in text6 if re.search('@[A-Za-z0-9_]+',txt)])\n",
    "print([txt for txt in text6 if re.search('#[A-Za-z0-9_]+',txt)])\n",
    "\n",
    "#the '+' stands for anything in the bracket can be repeated multiple times"
   ]
  },
  {
   "cell_type": "code",
   "execution_count": null,
   "metadata": {},
   "outputs": [],
   "source": [
    "###Using RegEx using Pandas"
   ]
  },
  {
   "cell_type": "code",
   "execution_count": 16,
   "metadata": {},
   "outputs": [],
   "source": [
    "import numpy as np\n",
    "import pandas as pd\n",
    "\n",
    "sentence=[{'Monday: The doctors appointment is at 2:45pm.'},{'Tuesday: The dentists appointment is at 11:30 am.'},{'Wednesday: AT4t 7:00pm , there is a basketball game!'},{\"Thursday: Be back home by 11:15pm at the latest\"}]"
   ]
  },
  {
   "cell_type": "code",
   "execution_count": 21,
   "metadata": {},
   "outputs": [
    {
     "data": {
      "text/html": [
       "<div>\n",
       "<style scoped>\n",
       "    .dataframe tbody tr th:only-of-type {\n",
       "        vertical-align: middle;\n",
       "    }\n",
       "\n",
       "    .dataframe tbody tr th {\n",
       "        vertical-align: top;\n",
       "    }\n",
       "\n",
       "    .dataframe thead th {\n",
       "        text-align: right;\n",
       "    }\n",
       "</style>\n",
       "<table border=\"1\" class=\"dataframe\">\n",
       "  <thead>\n",
       "    <tr style=\"text-align: right;\">\n",
       "      <th></th>\n",
       "      <th>text</th>\n",
       "    </tr>\n",
       "  </thead>\n",
       "  <tbody>\n",
       "    <tr>\n",
       "      <th>0</th>\n",
       "      <td>Monday: The doctors appointment is at 2:45pm.</td>\n",
       "    </tr>\n",
       "    <tr>\n",
       "      <th>1</th>\n",
       "      <td>Tuesday: The dentists appointment is at 11:30 am.</td>\n",
       "    </tr>\n",
       "    <tr>\n",
       "      <th>2</th>\n",
       "      <td>Wednesday: AT4t 7:00pm , there is a basketball...</td>\n",
       "    </tr>\n",
       "    <tr>\n",
       "      <th>3</th>\n",
       "      <td>Thursday: Be back home by 11:15pm at the latest</td>\n",
       "    </tr>\n",
       "  </tbody>\n",
       "</table>\n",
       "</div>"
      ],
      "text/plain": [
       "                                                text\n",
       "0      Monday: The doctors appointment is at 2:45pm.\n",
       "1  Tuesday: The dentists appointment is at 11:30 am.\n",
       "2  Wednesday: AT4t 7:00pm , there is a basketball...\n",
       "3    Thursday: Be back home by 11:15pm at the latest"
      ]
     },
     "execution_count": 21,
     "metadata": {},
     "output_type": "execute_result"
    }
   ],
   "source": [
    "doc=pd.DataFrame(sentence,columns=['text'])\n",
    "doc"
   ]
  },
  {
   "cell_type": "code",
   "execution_count": 22,
   "metadata": {},
   "outputs": [
    {
     "data": {
      "text/plain": [
       "0    45\n",
       "1    49\n",
       "2    52\n",
       "3    47\n",
       "Name: text, dtype: int64"
      ]
     },
     "execution_count": 22,
     "metadata": {},
     "output_type": "execute_result"
    }
   ],
   "source": [
    "doc['text'].str.len()"
   ]
  },
  {
   "cell_type": "code",
   "execution_count": 27,
   "metadata": {},
   "outputs": [
    {
     "data": {
      "text/plain": [
       "0    [Monday:, The, doctors, appointment, is, at, 2...\n",
       "1    [Tuesday:, The, dentists, appointment, is, at,...\n",
       "2    [Wednesday:, AT4t, 7:00pm, ,, there, is, a, ba...\n",
       "3    [Thursday:, Be, back, home, by, 11:15pm, at, t...\n",
       "Name: text, dtype: object"
      ]
     },
     "execution_count": 27,
     "metadata": {},
     "output_type": "execute_result"
    }
   ],
   "source": [
    "doc['text'].str.split()"
   ]
  },
  {
   "cell_type": "code",
   "execution_count": 29,
   "metadata": {},
   "outputs": [
    {
     "data": {
      "text/plain": [
       "0    False\n",
       "1    False\n",
       "2     True\n",
       "3    False\n",
       "Name: text, dtype: bool"
      ]
     },
     "execution_count": 29,
     "metadata": {},
     "output_type": "execute_result"
    }
   ],
   "source": [
    "doc['text'].str.contains('there')"
   ]
  },
  {
   "cell_type": "code",
   "execution_count": 66,
   "metadata": {},
   "outputs": [
    {
     "data": {
      "text/plain": [
       "0    [Monday]\n",
       "1          []\n",
       "2          []\n",
       "3          []\n",
       "Name: text, dtype: object"
      ]
     },
     "execution_count": 66,
     "metadata": {},
     "output_type": "execute_result"
    }
   ],
   "source": [
    "doc['text'].str.findall(r'^Monday') # r'\\d' denotes digits"
   ]
  },
  {
   "cell_type": "code",
   "execution_count": 37,
   "metadata": {},
   "outputs": [
    {
     "data": {
      "text/plain": [
       "0    [M, o, n, d, a, y, :,  , T, h, e,  , d, o, c, ...\n",
       "1    [T, u, e, s, d, a, y, :,  , T, h, e,  , d, e, ...\n",
       "2    [W, e, d, n, e, s, d, a, y, :,  , A, T, t,  , ...\n",
       "3    [T, h, u, r, s, d, a, y, :,  , B, e,  , b, a, ...\n",
       "Name: text, dtype: object"
      ]
     },
     "execution_count": 37,
     "metadata": {},
     "output_type": "execute_result"
    }
   ],
   "source": [
    "doc['text'].str.findall(r'\\D') # r'\\D' denotes alphabets"
   ]
  },
  {
   "cell_type": "code",
   "execution_count": 44,
   "metadata": {},
   "outputs": [
    {
     "data": {
      "text/plain": [
       "0     [(2, 45)]\n",
       "1    [(11, 30)]\n",
       "2     [(7, 00)]\n",
       "3    [(11, 15)]\n",
       "Name: text, dtype: object"
      ]
     },
     "execution_count": 44,
     "metadata": {},
     "output_type": "execute_result"
    }
   ],
   "source": [
    "doc['text'].str.findall(r'(\\d?\\d):(\\d\\d)')"
   ]
  },
  {
   "cell_type": "code",
   "execution_count": 49,
   "metadata": {},
   "outputs": [
    {
     "data": {
      "text/html": [
       "<div>\n",
       "<style scoped>\n",
       "    .dataframe tbody tr th:only-of-type {\n",
       "        vertical-align: middle;\n",
       "    }\n",
       "\n",
       "    .dataframe tbody tr th {\n",
       "        vertical-align: top;\n",
       "    }\n",
       "\n",
       "    .dataframe thead th {\n",
       "        text-align: right;\n",
       "    }\n",
       "</style>\n",
       "<table border=\"1\" class=\"dataframe\">\n",
       "  <thead>\n",
       "    <tr style=\"text-align: right;\">\n",
       "      <th></th>\n",
       "      <th>0</th>\n",
       "      <th>1</th>\n",
       "    </tr>\n",
       "  </thead>\n",
       "  <tbody>\n",
       "    <tr>\n",
       "      <th>0</th>\n",
       "      <td>2</td>\n",
       "      <td>45</td>\n",
       "    </tr>\n",
       "    <tr>\n",
       "      <th>1</th>\n",
       "      <td>11</td>\n",
       "      <td>30</td>\n",
       "    </tr>\n",
       "    <tr>\n",
       "      <th>2</th>\n",
       "      <td>7</td>\n",
       "      <td>00</td>\n",
       "    </tr>\n",
       "    <tr>\n",
       "      <th>3</th>\n",
       "      <td>11</td>\n",
       "      <td>15</td>\n",
       "    </tr>\n",
       "  </tbody>\n",
       "</table>\n",
       "</div>"
      ],
      "text/plain": [
       "    0   1\n",
       "0   2  45\n",
       "1  11  30\n",
       "2   7  00\n",
       "3  11  15"
      ]
     },
     "execution_count": 49,
     "metadata": {},
     "output_type": "execute_result"
    }
   ],
   "source": [
    "doc['text'].str.extract(r'(\\d?\\d):(\\d\\d)')"
   ]
  },
  {
   "cell_type": "code",
   "execution_count": 51,
   "metadata": {},
   "outputs": [
    {
     "data": {
      "text/html": [
       "<div>\n",
       "<style scoped>\n",
       "    .dataframe tbody tr th:only-of-type {\n",
       "        vertical-align: middle;\n",
       "    }\n",
       "\n",
       "    .dataframe tbody tr th {\n",
       "        vertical-align: top;\n",
       "    }\n",
       "\n",
       "    .dataframe thead th {\n",
       "        text-align: right;\n",
       "    }\n",
       "</style>\n",
       "<table border=\"1\" class=\"dataframe\">\n",
       "  <thead>\n",
       "    <tr style=\"text-align: right;\">\n",
       "      <th></th>\n",
       "      <th></th>\n",
       "      <th>0</th>\n",
       "      <th>1</th>\n",
       "      <th>2</th>\n",
       "      <th>3</th>\n",
       "    </tr>\n",
       "    <tr>\n",
       "      <th></th>\n",
       "      <th>match</th>\n",
       "      <th></th>\n",
       "      <th></th>\n",
       "      <th></th>\n",
       "      <th></th>\n",
       "    </tr>\n",
       "  </thead>\n",
       "  <tbody>\n",
       "    <tr>\n",
       "      <th>0</th>\n",
       "      <th>0</th>\n",
       "      <td>2:45pm</td>\n",
       "      <td>2</td>\n",
       "      <td>45</td>\n",
       "      <td>pm</td>\n",
       "    </tr>\n",
       "    <tr>\n",
       "      <th>1</th>\n",
       "      <th>0</th>\n",
       "      <td>11:30 am</td>\n",
       "      <td>11</td>\n",
       "      <td>30</td>\n",
       "      <td>am</td>\n",
       "    </tr>\n",
       "    <tr>\n",
       "      <th>2</th>\n",
       "      <th>0</th>\n",
       "      <td>7:00pm</td>\n",
       "      <td>7</td>\n",
       "      <td>00</td>\n",
       "      <td>pm</td>\n",
       "    </tr>\n",
       "    <tr>\n",
       "      <th>3</th>\n",
       "      <th>0</th>\n",
       "      <td>11:15pm</td>\n",
       "      <td>11</td>\n",
       "      <td>15</td>\n",
       "      <td>pm</td>\n",
       "    </tr>\n",
       "  </tbody>\n",
       "</table>\n",
       "</div>"
      ],
      "text/plain": [
       "                0   1   2   3\n",
       "  match                      \n",
       "0 0        2:45pm   2  45  pm\n",
       "1 0      11:30 am  11  30  am\n",
       "2 0        7:00pm   7  00  pm\n",
       "3 0       11:15pm  11  15  pm"
      ]
     },
     "execution_count": 51,
     "metadata": {},
     "output_type": "execute_result"
    }
   ],
   "source": [
    "doc['text'].str.extractall(r'((\\d?\\d):(\\d\\d) ?([ap]m))')"
   ]
  },
  {
   "cell_type": "code",
   "execution_count": 52,
   "metadata": {},
   "outputs": [
    {
     "data": {
      "text/html": [
       "<div>\n",
       "<style scoped>\n",
       "    .dataframe tbody tr th:only-of-type {\n",
       "        vertical-align: middle;\n",
       "    }\n",
       "\n",
       "    .dataframe tbody tr th {\n",
       "        vertical-align: top;\n",
       "    }\n",
       "\n",
       "    .dataframe thead th {\n",
       "        text-align: right;\n",
       "    }\n",
       "</style>\n",
       "<table border=\"1\" class=\"dataframe\">\n",
       "  <thead>\n",
       "    <tr style=\"text-align: right;\">\n",
       "      <th></th>\n",
       "      <th></th>\n",
       "      <th>time</th>\n",
       "      <th>hour</th>\n",
       "      <th>minute</th>\n",
       "      <th>period</th>\n",
       "    </tr>\n",
       "    <tr>\n",
       "      <th></th>\n",
       "      <th>match</th>\n",
       "      <th></th>\n",
       "      <th></th>\n",
       "      <th></th>\n",
       "      <th></th>\n",
       "    </tr>\n",
       "  </thead>\n",
       "  <tbody>\n",
       "    <tr>\n",
       "      <th>0</th>\n",
       "      <th>0</th>\n",
       "      <td>2:45pm</td>\n",
       "      <td>2</td>\n",
       "      <td>45</td>\n",
       "      <td>pm</td>\n",
       "    </tr>\n",
       "    <tr>\n",
       "      <th>1</th>\n",
       "      <th>0</th>\n",
       "      <td>11:30 am</td>\n",
       "      <td>11</td>\n",
       "      <td>30</td>\n",
       "      <td>am</td>\n",
       "    </tr>\n",
       "    <tr>\n",
       "      <th>2</th>\n",
       "      <th>0</th>\n",
       "      <td>7:00pm</td>\n",
       "      <td>7</td>\n",
       "      <td>00</td>\n",
       "      <td>pm</td>\n",
       "    </tr>\n",
       "    <tr>\n",
       "      <th>3</th>\n",
       "      <th>0</th>\n",
       "      <td>11:15pm</td>\n",
       "      <td>11</td>\n",
       "      <td>15</td>\n",
       "      <td>pm</td>\n",
       "    </tr>\n",
       "  </tbody>\n",
       "</table>\n",
       "</div>"
      ],
      "text/plain": [
       "             time hour minute period\n",
       "  match                             \n",
       "0 0        2:45pm    2     45     pm\n",
       "1 0      11:30 am   11     30     am\n",
       "2 0        7:00pm    7     00     pm\n",
       "3 0       11:15pm   11     15     pm"
      ]
     },
     "execution_count": 52,
     "metadata": {},
     "output_type": "execute_result"
    }
   ],
   "source": [
    "doc['text'].str.extractall(r'(?P<time>(?P<hour>\\d?\\d):(?P<minute>\\d\\d) ?(?P<period>[ap]m))')"
   ]
  },
  {
   "cell_type": "code",
   "execution_count": null,
   "metadata": {},
   "outputs": [],
   "source": []
  }
 ],
 "metadata": {
  "kernelspec": {
   "display_name": "Python 3",
   "language": "python",
   "name": "python3"
  },
  "language_info": {
   "codemirror_mode": {
    "name": "ipython",
    "version": 3
   },
   "file_extension": ".py",
   "mimetype": "text/x-python",
   "name": "python",
   "nbconvert_exporter": "python",
   "pygments_lexer": "ipython3",
   "version": "3.7.3"
  }
 },
 "nbformat": 4,
 "nbformat_minor": 2
}
